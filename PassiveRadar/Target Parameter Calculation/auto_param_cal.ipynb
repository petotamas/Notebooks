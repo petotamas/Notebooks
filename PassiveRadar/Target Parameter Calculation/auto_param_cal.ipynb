{
 "cells": [
  {
   "cell_type": "markdown",
   "metadata": {},
   "source": [
    "# Automatic Target Parameter Calculation\n",
    "\n",
    "In general, passive bistatic radars are able to measure the bistatic range, and the bistatic Doppler shift of the  reflected signals. In case the radar utilize phased array antenna system, the measurement of the azimuth and elevation angles are also become possible. Of course the direct calculation of these quantities is rather straightforward. There exists simple formulas, which are widely available in the literature [Willis2005].  \n",
    "\n",
    "In this report I am going to summarize the basic equations, that could be used to determine these quantities from standard geodetic data. Beside this I am introducing a simple python based script which implements these calculations. This function could be usefull at many points of a system development. To check the basic operation of a syetem, to estimate its accuracy, to implement automatic performance evaluation environments based on real measurmemts, to automatically generate reference data for algorithm tuning and even to automatically generate large amount of training data from measurement to train AI algorithms. \n",
    "\n",
    "Examples for all these applications will be presented in the second part of this report. \n",
    "\n",
    "## Bistatic range calculation: \n",
    "\n",
    "Bistatic range is the path difference of the reflected signal and the direct signal. It can be calculated with the following formula \n",
    "\\begin{equation}\n",
    "R_b = R_r + R_t - L\n",
    "\\end{equation}\n",
    "where $R_t$ and $R_r$ are the transmitter to target and the receiver to target distances respectively. $L$ denotes the baseline distance, which is the illuminator to receiver distance. The bistatic distance has major importance, as the radar can primary determine this quantity from the measurement. From a range-Doppler map (cross-correlation detector output) one can measure the time delay between the direct path signal and target reflection by locating the correlation peak corresponding to the target.  \n",
    "In case the difference in range cells is K, then the bistatic range is simply: \n",
    "\\begin{equation}\n",
    "R_b = Kc/fs,\n",
    "\\end{equation}\n",
    "where $c$ is the speed of light and $f_s$ is the sampling frequency. In the opposite case, if we know the exact location of the IoO, the receiver and the target we can calculate the observable bistatic range. Let us assume, that all the coordinates are in lattitude, longitude, elevation format. To calculate distances (and later projections for the Doppler frequency) we can convert these coordinates into a 3D cartesian coordinate system. The forward conversion is rather straightforward, but to use Datums as well like WGS84 I have utilised the ECEF converter of the Pygeodesy module [Brouwers2020]. "
   ]
  },
  {
   "cell_type": "code",
   "execution_count": 1,
   "metadata": {},
   "outputs": [
    {
     "name": "stdout",
     "output_type": "stream",
     "text": [
      "Converted X, Y Z coordinates [4066672.98023294 1406477.26777827 4698416.91233034]\n"
     ]
    }
   ],
   "source": [
    "import numpy as np\n",
    "from pygeodesy import ecef\n",
    "from pygeodesy import Datums\n",
    "\n",
    "# Example coordinates : Budapest, Heroes' Square\n",
    "target_lat = 47.515136 # [deg]\n",
    "target_lon = 19.078176 # [deg]\n",
    "target_ele = 108       # [m]\n",
    "\n",
    "ecef_converter = ecef.EcefYou(Datums.Sphere)\n",
    "target_ecef_raw = ecef_converter.forward(target_lat, target_lon, target_ele)\n",
    "target_ecef     =np.array([target_ecef_raw[0], target_ecef_raw[1], target_ecef_raw[2]])\n",
    "\n",
    "print(\"Converted X, Y Z coordinates\", target_ecef)"
   ]
  },
  {
   "cell_type": "markdown",
   "metadata": {},
   "source": [
    "Knowing all the 3D coordinates, we can simply calculate the distances. Let us define the following vectors:\n",
    "\n",
    "- Illuminator:\n",
    "$\\textbf{i} = \\left(x_i,y_i,z_i\\right)$\n",
    "- Radar:\n",
    "$\\textbf{r} = \\left(x_r,y_r,z_r\\right)$ \n",
    "- Target:\n",
    "$\\textbf{t} = \\left(x_t,y_t,z_t\\right)$\n",
    "\n",
    "With this notation the distances are:\n",
    "$Rt = |\\textbf{i}-\\textbf{t}| $,\n",
    "$Rr = |\\textbf{t}-\\textbf{r}| $ and \n",
    "$L = |\\textbf{i}-\\textbf{r}| $, and the observable sample delay is: \n",
    "\\begin{equation}\n",
    "\\tau = \\frac{(Rt+Rr)-L}{c T_s} ,\n",
    "\\end{equation}\n",
    "where $T_s = 1/f_s$ is the sampling period.\n"
   ]
  },
  {
   "cell_type": "code",
   "execution_count": 2,
   "metadata": {},
   "outputs": [
    {
     "name": "stdout",
     "output_type": "stream",
     "text": [
      "Baseline distance: 4317.5 m\n",
      "IoO to target distance: 7919.9 m\n",
      "Target to radar distance: 3634.2 m\n",
      "Bistatic distance: 7236.6 m\n",
      "Observable time delay: 241.2 sample\n"
     ]
    }
   ],
   "source": [
    "# Example coordinates of the IoO : Budapest, Széchenyi hill\n",
    "ioo_lat = 47.49166667  # [deg]\n",
    "ioo_lon = 18.97888889  # [deg]\n",
    "ioo_ele = 457 + 182    # [m] Above Sea Level + Above Ground Level\n",
    "\n",
    "# Convert the geodetic IoO coordinates to ECEF coordinates\n",
    "ioo_ecef = ecef_converter.forward(ioo_lat, ioo_lon, ioo_ele)\n",
    "ioo_ecef = np.array([ioo_ecef[0],ioo_ecef[1], ioo_ecef[2]])\n",
    "\n",
    "# Example coordinates for the radar: Budapest, Mathhias Church\n",
    "radar_lat = 47.501807 # [deg]\n",
    "radar_lon = 19.034006 # [deg]\n",
    "radar_ele = 169       # [m]\n",
    "\n",
    "# Convert geodetic radar position to ECEF coordinates\n",
    "radar_ecef = ecef_converter.forward(radar_lat, radar_lon, radar_ele)\n",
    "radar_ecef = np.array([radar_ecef[0],radar_ecef[1], radar_ecef[2]])\n",
    "\n",
    "# Baseline distance\n",
    "L = np.sqrt(np.sum(np.abs(radar_ecef-ioo_ecef)**2)) \n",
    "\n",
    " # Target to IoO distance\n",
    "Rt = np.sqrt(np.sum(np.abs(target_ecef-ioo_ecef)**2)) \n",
    "\n",
    "# Target to radar distance\n",
    "Rr = np.sqrt(np.sum(np.abs(target_ecef-radar_ecef)**2)) \n",
    "\n",
    "# Bistatic distance\n",
    "Rb = Rt+Rr-L\n",
    "\n",
    "# Example sampling frequency is 10 MHz\n",
    "fs = 10 * 10**6\n",
    "\n",
    "# Speed of light\n",
    "c= 3*10**8\n",
    "\n",
    "# Observable time delay in number of samples\n",
    "tau = Rb*fs/(c)\n",
    "\n",
    "print(\"Baseline distance: {:.1f} m\".format(L))\n",
    "print(\"IoO to target distance: {:.1f} m\".format(Rt))\n",
    "print(\"Target to radar distance: {:.1f} m\".format(Rr))\n",
    "print(\"Bistatic distance: {:.1f} m\".format(Rb))\n",
    "print(\"Observable time delay: {:.1f} sample\".format(tau))"
   ]
  },
  {
   "cell_type": "markdown",
   "metadata": {},
   "source": [
    "## Bistatic Doppler calculation \n",
    "\n",
    "To calculate the bistatic Doppler frequency shift we also need the speed and the moving direction of the target. \n",
    "Let us use the $\\textbf{v}$ vector to describe both these quantities. $|\\textbf{v}|$ gives us the absolute moving speed, while $\\textbf{v}/|\\textbf{v}|$ gives us the normalized direction vector. We can determine the estimation of this speed vector in the 3D space from the lattitude, longitude, speed and direction values with the next few calculation steps: \n",
    "\n",
    "- Calculate the lat, long coordinates of the target with some distances away on the current direction of the target (Distance on great circles). In case the distance is relatively small, the estimation will be accurate.\n",
    "- Convert the current and the predicted lat, long coordinates of the target to 3D space.\n",
    "- Create vector from coordinates with subtraction.\n",
    "- Normalize and rescale the vector with the real target velocity"
   ]
  },
  {
   "cell_type": "code",
   "execution_count": 3,
   "metadata": {},
   "outputs": [
    {
     "name": "stdout",
     "output_type": "stream",
     "text": [
      "Speed vector X, Y Z coordinates [-6.96949954 -2.41043298  6.75395358]\n"
     ]
    }
   ],
   "source": [
    "# The following few lines performs this calculation: \n",
    "from pygeodesy.ellipsoidalVincenty import LatLon\n",
    "\n",
    "target_dir = 0 # North direction\n",
    "target_speed = 10 #[meter/sec]\n",
    "\n",
    "target_latlon       = LatLon(target_lat, target_lon) # Target initial coordinate\n",
    "speed_vector_latlon = target_latlon.destination(1, target_dir)  # Target coordinate 1m away in the current direction\n",
    "speed_vector_ecef   = ecef_converter.forward(speed_vector_latlon.lat, \n",
    "                                             speed_vector_latlon.lon, \n",
    "                                             target_ele)\n",
    "speed_vector_ecef   = np.array([speed_vector_ecef[0],speed_vector_ecef[1], speed_vector_ecef[2]])\n",
    "speed_vector        = speed_vector_ecef-target_ecef # Create vector in Cartesian space\n",
    "speed_vector       /= np.sqrt(np.sum(np.abs(speed_vector)**2)) # Normalize\n",
    "speed_vector       *= target_speed\n",
    "\n",
    "print(\"Speed vector X, Y Z coordinates\", speed_vector)"
   ]
  },
  {
   "cell_type": "markdown",
   "metadata": {},
   "source": [
    "The Doppler shift is given by the variation rate of the phase delay along the full signal path.\n",
    "The illuminator to target distance changes to $Rt - v_i t$ (during $t$ time), while the target to receiver distance will be $R_r-v_r t$ $t$ times later. $v_i$ and $v_r$ are the speed of the target, in the direction of the illuminator and the receiver respectively.\n",
    "In accordance with all these, the phase delay variation at the target is described with the following function:\n",
    "\\begin{equation}\n",
    "\\phi(t) = -1 \\frac{2\\pi}{\\lambda} (R_t - v_i t - R_r + v_r t)\n",
    "\\end{equation}\n",
    ", thus the Doppler frequency is: \n",
    "\\begin{equation}\n",
    "f_{Doppler}=\\frac{1}{2 \\pi} \\frac{d\\phi(t)}{dt}=\\frac{v_i +v_r}{\\lambda}\n",
    "\\end{equation}\n",
    "To get $v_i$ and $v_r$ we can calculate the projection of the speed vector onto the illuminator to target and onto the target to receiver vectors. \n",
    "\\begin{eqnarray}\n",
    "v_i = \\textbf{v}(\\textbf{t}-\\textbf{i})  \\\\\n",
    "v_r= \\textbf{v}(\\textbf{t}-\\textbf{r})\n",
    "\\end{eqnarray}"
   ]
  },
  {
   "cell_type": "code",
   "execution_count": 6,
   "metadata": {},
   "outputs": [
    {
     "name": "stdout",
     "output_type": "stream",
     "text": [
      "Calculated bistatic Doppler frequency: -14.7 Hz\n"
     ]
    }
   ],
   "source": [
    "# As a summary the bistatic Doppler frequency can be calculated with the following script:\n",
    "\n",
    "wavelength = 0.5 # [m] @ 600 MHz\n",
    "\n",
    "# Generate target to IoO vector\n",
    "target_to_ioo_vector  = (target_ecef-ioo_ecef)/Rt\n",
    "    \n",
    "# Generate target to radar vector\n",
    "target_to_radar_vector = (target_ecef-radar_ecef)/Rr\n",
    "    \n",
    "# Calculate target Doppler\n",
    "fD = -1*((np.sum(speed_vector*target_to_ioo_vector)) + (np.sum(speed_vector*target_to_radar_vector)))/wavelength \n",
    "\n",
    "print(\"Calculated bistatic Doppler frequency: {:.1f} Hz\".format(fD))\n",
    "    "
   ]
  },
  {
   "cell_type": "markdown",
   "metadata": {},
   "source": [
    "## Bearing  \n",
    "\n",
    "The final missing parameter of the reflection is the angle of arrival.  To obtain this we can use the following formula to calculate the initial heading from one point to another, when they are given in lattitude and longitude.[Veness2019]\n",
    "\\begin{equation}\n",
    "\\theta = atan2(cos(lat_1)*sin(lat_2)-sin(lat_1)*cos(lat_2)*cos(lon_2-lon_1),sin(lon_2-lon_1)*cos(lat_2)) \n",
    "\\end{equation}\n",
    "\n",
    "Here the first coordinate pair ($lat_1$,$lon_1$) corresponds to the receiver location, while the second ($lat_2$, $lon_2$) is the target location.After correcting this value with the actual heading of the surveillance antenna, we get the measureble direction of arrival of the target reflection.\n"
   ]
  },
  {
   "cell_type": "markdown",
   "metadata": {},
   "source": [
    "## Applications:\n",
    "\n",
    "### APRiL implementation:\n",
    "All these transformations and calculations are integrated into a single function that can be found in the pyAPRiL library [Peto2020a]. The following small example shows how to use it:\n"
   ]
  },
  {
   "cell_type": "code",
   "execution_count": 5,
   "metadata": {},
   "outputs": [
    {
     "name": "stdout",
     "output_type": "stream",
     "text": [
      "Bistatic distance: 7236.6 m\n",
      "Bistatic Doppler frequency: -14.7 Hz\n",
      "Angle of Arrival : 155.9 deg\n"
     ]
    }
   ],
   "source": [
    "radar_bearing = 0 # [deg] relative to the north direction\n",
    "from pyapril.targetParamCalculator import calculate_bistatic_target_parameters\n",
    "(Rb, fD, theta) = \\\n",
    "calculate_bistatic_target_parameters(radar_lat, \n",
    "                                     radar_lon, \n",
    "                                     radar_ele, \n",
    "                                     radar_bearing,\n",
    "                                     ioo_lat, \n",
    "                                     ioo_lon, \n",
    "                                     ioo_ele,\n",
    "                                     target_lat=target_lat , \n",
    "                                     target_lon=target_lon,\n",
    "                                     target_ele=target_ele,\n",
    "                                     target_speed=target_speed, \n",
    "                                     target_dir=target_dir,\n",
    "                                     wavelength=wavelength)\n",
    "print(\"Bistatic distance: {:.1f} m\".format(Rb))\n",
    "print(\"Bistatic Doppler frequency: {:.1f} Hz\".format(fD))\n",
    "print(\"Angle of Arrival : {:.1f} deg\".format(theta))"
   ]
  },
  {
   "cell_type": "markdown",
   "metadata": {},
   "source": [
    "### Automated mesurement evaluation\n",
    "Using the so far obtained results and implementations, one can calculate the expected bistatic range, Doppler frequency and bearing angle of the observed target from an available target track.\n",
    "( A util function located in the Vega repository [Peto2020b] named \"FR24_track_reproc\" can be used to calculate these fields for a Vega measurement by processing standard FlightRadar24 track files)\n",
    "\n",
    "#### Expected target zone highlight\n",
    "In the knowledge of the expected target parameters we can search for target reflection on the range-Doppler map just in the right place. As sometimes it is very difficult to find the investigated target reflection this tool could be especially valuable.\n",
    "The following example shows a range-Doppler map animation where the expected tatget location area ( calculated from flightRadar24 track ) is marked with a red square. You can also note, that without the highlight of expected target zone the identification of the reflection would have been really difficult even with using a CFAR algorithm.\n",
    "For VEGA database compatible measurement this script is available in the repository [Peto2020b].\n"
   ]
  },
  {
   "cell_type": "markdown",
   "metadata": {},
   "source": [
    "![](images/RD_matrix_auto_detec_animation.gif \"segment\")"
   ]
  },
  {
   "cell_type": "markdown",
   "metadata": {},
   "source": [
    "Figure 1: Demonstration for automatic target parameter calculation, [Peto2020b], VEGAM20191219K4U0C0S5DVBT"
   ]
  },
  {
   "cell_type": "markdown",
   "metadata": {},
   "source": [
    "# Rerences\n",
    "\n",
    "[Willis2005] Nicolas J. Willis: Bistatic Radar, SciTech Publishing, 2005  \n",
    "\n",
    "[Veness2019] Chris Veness: https://www.movable-type.co.uk/scripts/latlong.html  \n",
    "\n",
    "[Brouwers2020] Jean Brouwers, Chris Veness, Charles Karney: Pygeodesy 20.3.2, 1 march 2020 https://github.com/mrJean1/PyGeodesy, https://pypi.org/project/PyGeodesy/  \n",
    "\n",
    "[Peto2020a] Tamás Pető: pyAPRiL 1.6.post2 10 march 2020, https://github.com/petotamas/APRiL, https://pypi.org/project/pyAPRiL/#data  \n",
    "\n",
    "[Peto2020b] Tamás Pető: VEGA database, 1 march 2020, https://github.com/petotamas/vega_database_tools\n"
   ]
  }
 ],
 "metadata": {
  "kernelspec": {
   "display_name": "Python 3",
   "language": "python",
   "name": "python3"
  },
  "language_info": {
   "codemirror_mode": {
    "name": "ipython",
    "version": 3
   },
   "file_extension": ".py",
   "mimetype": "text/x-python",
   "name": "python",
   "nbconvert_exporter": "python",
   "pygments_lexer": "ipython3",
   "version": "3.7.6"
  }
 },
 "nbformat": 4,
 "nbformat_minor": 4
}
